{
 "cells": [
  {
   "cell_type": "markdown",
   "metadata": {},
   "source": [
    "\n",
    "# Numberwang\n",
    "Run the cell below to load up the functions. Run by clicking the cell, then clicking the `>|Run` button above, or `ctrl+enter`. The `In [ ]` will turn into an `In [1]`. If ever the `In [ ]` gets stuck on `In [*]` (which it will, because this is bad code), go up to `Kernerl > Restart > [Restart button]` then re-run the cells starting from the top."
   ]
  },
  {
   "cell_type": "code",
   "execution_count": 1,
   "metadata": {},
   "outputs": [],
   "source": [
    "import math\n",
    "def is_square(num):\n",
    "    return int(math.sqrt(num)) == math.sqrt(num)\n",
    "\n",
    "def find_next(remaining, sequence, verbose, solved):\n",
    "    for i in range(len(remaining)):\n",
    "        if is_square(sequence[-1] + remaining[i]):\n",
    "            if len(remaining) == 1:\n",
    "                if verbose:\n",
    "                    print(\" SOLUTION: \", sequence + [remaining[i]])\n",
    "                return True\n",
    "            else:\n",
    "                solved = find_next(remaining[:i] + remaining[i+1:], sequence + [remaining[i]], verbose, solved)\n",
    "    return solved\n",
    "    \n",
    "\n",
    "def get_consec_squares(start, end, verbose):\n",
    "    solved = False\n",
    "    interval = list(range(start, end+1))\n",
    "    for i in interval:\n",
    "        remaining = interval.copy()\n",
    "        remaining.remove(i)\n",
    "        sequence = [i]\n",
    "        if find_next(remaining, sequence, verbose, solved):\n",
    "            solved = True\n",
    "    return solved\n"
   ]
  },
  {
   "cell_type": "markdown",
   "metadata": {},
   "source": [
    "Make sure you run the code cell above first!\n",
    "\n",
    "Now pick the intervals to loop over (the wider the interval, the longer it'll take to run). Set `verbose = True` if you want to see the solutions.\n",
    "\n",
    "Click the block below and then click the `>|Run` button above, or `ctrl+enter`."
   ]
  },
  {
   "cell_type": "code",
   "execution_count": null,
   "metadata": {
    "scrolled": false
   },
   "outputs": [
    {
     "name": "stdout",
     "output_type": "stream",
     "text": [
      "Interval: (1,20) fails\n",
      "Interval: (1,21) fails\n",
      "Interval: (1,22) fails\n",
      "Interval: (1,23) works\n",
      "Interval: (1,24) fails\n",
      "Interval: (1,25) works\n",
      "Interval: (1,26) works\n",
      "Interval: (1,27) works\n",
      "Interval: (1,28) works\n",
      "Interval: (1,29) works\n",
      "Interval: (1,30) works\n",
      "Interval: (1,31) works\n",
      "Interval: (1,32) works\n",
      "Interval: (1,33) works\n",
      "Interval: (1,34) works\n",
      "Interval: (1,35) works\n",
      "Interval: (1,36) works\n"
     ]
    }
   ],
   "source": [
    "start_min = 1 # The start of the interval\n",
    "start_max = 1 \n",
    "end_min = 20\n",
    "end_max = 50\n",
    "verbose = False\n",
    "  \n",
    "#=========================================#\n",
    "for start in range(start_min, start_max+1):\n",
    "    for end in range(end_min, end_max+1):\n",
    "        interval = \"Interval: (\"+str(start) + \",\" + str(end) + \")\"\n",
    "        if verbose:\n",
    "            print(interval)\n",
    "            get_consec_squares(1, end, verbose)\n",
    "        else:\n",
    "            if get_consec_squares(1, end, verbose):\n",
    "                print(interval, \"works\")\n",
    "            else:\n",
    "                print(interval, \"fails\")"
   ]
  }
 ],
 "metadata": {
  "kernelspec": {
   "display_name": "Python 3",
   "language": "python",
   "name": "python3"
  },
  "language_info": {
   "codemirror_mode": {
    "name": "ipython",
    "version": 3
   },
   "file_extension": ".py",
   "mimetype": "text/x-python",
   "name": "python",
   "nbconvert_exporter": "python",
   "pygments_lexer": "ipython3",
   "version": "3.7.0"
  }
 },
 "nbformat": 4,
 "nbformat_minor": 2
}
